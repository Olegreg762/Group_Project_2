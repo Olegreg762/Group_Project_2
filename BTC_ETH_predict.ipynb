{
 "cells": [
  {
   "cell_type": "code",
   "execution_count": 6,
   "id": "0d1b055f-10b3-4199-8d0c-9457d36eefb2",
   "metadata": {},
   "outputs": [],
   "source": [
    "import yfinance as yf\n",
    "import xgboost as xgb\n",
    "import pandas as pd"
   ]
  },
  {
   "cell_type": "code",
   "execution_count": 7,
   "id": "268185f2-a091-48ad-b243-48e15fc58689",
   "metadata": {},
   "outputs": [
    {
     "name": "stdout",
     "output_type": "stream",
     "text": [
      "[*********************100%***********************]  2 of 2 completed\n"
     ]
    }
   ],
   "source": [
    "crypto = yf.download(tickers=['BTC-USD' , 'ETH-USD'], start='2018-01-01', end='2022-12-31').drop(columns=['Adj Close', 'High', 'Low']).round(2)\n",
    "crypto.index = pd.to_datetime(crypto.index)\n",
    "crypto.index = crypto.index.date"
   ]
  },
  {
   "cell_type": "code",
   "execution_count": 8,
   "id": "ffec08b1-d751-421f-9802-7c113654567d",
   "metadata": {},
   "outputs": [
    {
     "data": {
      "text/html": [
       "<div>\n",
       "<style scoped>\n",
       "    .dataframe tbody tr th:only-of-type {\n",
       "        vertical-align: middle;\n",
       "    }\n",
       "\n",
       "    .dataframe tbody tr th {\n",
       "        vertical-align: top;\n",
       "    }\n",
       "\n",
       "    .dataframe thead tr th {\n",
       "        text-align: left;\n",
       "    }\n",
       "</style>\n",
       "<table border=\"1\" class=\"dataframe\">\n",
       "  <thead>\n",
       "    <tr>\n",
       "      <th></th>\n",
       "      <th colspan=\"2\" halign=\"left\">Close</th>\n",
       "      <th colspan=\"2\" halign=\"left\">Open</th>\n",
       "      <th colspan=\"2\" halign=\"left\">Volume</th>\n",
       "    </tr>\n",
       "    <tr>\n",
       "      <th></th>\n",
       "      <th>BTC-USD</th>\n",
       "      <th>ETH-USD</th>\n",
       "      <th>BTC-USD</th>\n",
       "      <th>ETH-USD</th>\n",
       "      <th>BTC-USD</th>\n",
       "      <th>ETH-USD</th>\n",
       "    </tr>\n",
       "  </thead>\n",
       "  <tbody>\n",
       "    <tr>\n",
       "      <th>2018-01-01</th>\n",
       "      <td>13657.2</td>\n",
       "      <td>772.64</td>\n",
       "      <td>14112.2</td>\n",
       "      <td>755.76</td>\n",
       "      <td>10291200000</td>\n",
       "      <td>2595760128</td>\n",
       "    </tr>\n",
       "    <tr>\n",
       "      <th>2018-01-02</th>\n",
       "      <td>14982.1</td>\n",
       "      <td>884.44</td>\n",
       "      <td>13625.0</td>\n",
       "      <td>772.35</td>\n",
       "      <td>16846600192</td>\n",
       "      <td>5783349760</td>\n",
       "    </tr>\n",
       "    <tr>\n",
       "      <th>2018-01-03</th>\n",
       "      <td>15201.0</td>\n",
       "      <td>962.72</td>\n",
       "      <td>14978.2</td>\n",
       "      <td>886.00</td>\n",
       "      <td>16871900160</td>\n",
       "      <td>5093159936</td>\n",
       "    </tr>\n",
       "    <tr>\n",
       "      <th>2018-01-04</th>\n",
       "      <td>15599.2</td>\n",
       "      <td>980.92</td>\n",
       "      <td>15270.7</td>\n",
       "      <td>961.71</td>\n",
       "      <td>21783199744</td>\n",
       "      <td>6502859776</td>\n",
       "    </tr>\n",
       "    <tr>\n",
       "      <th>2018-01-05</th>\n",
       "      <td>17429.5</td>\n",
       "      <td>997.72</td>\n",
       "      <td>15477.2</td>\n",
       "      <td>975.75</td>\n",
       "      <td>23840899072</td>\n",
       "      <td>6683149824</td>\n",
       "    </tr>\n",
       "  </tbody>\n",
       "</table>\n",
       "</div>"
      ],
      "text/plain": [
       "              Close             Open               Volume            \n",
       "            BTC-USD ETH-USD  BTC-USD ETH-USD      BTC-USD     ETH-USD\n",
       "2018-01-01  13657.2  772.64  14112.2  755.76  10291200000  2595760128\n",
       "2018-01-02  14982.1  884.44  13625.0  772.35  16846600192  5783349760\n",
       "2018-01-03  15201.0  962.72  14978.2  886.00  16871900160  5093159936\n",
       "2018-01-04  15599.2  980.92  15270.7  961.71  21783199744  6502859776\n",
       "2018-01-05  17429.5  997.72  15477.2  975.75  23840899072  6683149824"
      ]
     },
     "execution_count": 8,
     "metadata": {},
     "output_type": "execute_result"
    }
   ],
   "source": [
    "crypto.head()"
   ]
  },
  {
   "cell_type": "code",
   "execution_count": null,
   "id": "1e39898d-51d2-4f17-87e9-b708d65c11a1",
   "metadata": {},
   "outputs": [],
   "source": []
  }
 ],
 "metadata": {
  "kernelspec": {
   "display_name": "dev",
   "language": "python",
   "name": "python3"
  },
  "language_info": {
   "codemirror_mode": {
    "name": "ipython",
    "version": 3
   },
   "file_extension": ".py",
   "mimetype": "text/x-python",
   "name": "python",
   "nbconvert_exporter": "python",
   "pygments_lexer": "ipython3",
   "version": "3.7.13"
  },
  "vscode": {
   "interpreter": {
    "hash": "44d359f16f5f7daebf5250fc420ee4a851026ef039856dacb2f0d2332b93a75c"
   }
  }
 },
 "nbformat": 4,
 "nbformat_minor": 5
}
