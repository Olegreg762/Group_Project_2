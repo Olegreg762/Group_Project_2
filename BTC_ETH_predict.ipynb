{
  "cells": [
    {
      "cell_type": "code",
      "execution_count": 57,
      "id": "0d1b055f-10b3-4199-8d0c-9457d36eefb2",
      "metadata": {
        "colab": {
          "base_uri": "https://localhost:8080/"
        },
        "id": "0d1b055f-10b3-4199-8d0c-9457d36eefb2",
        "outputId": "abf1db32-1db3-4da8-f34c-e5845cfe9b8c"
      },
      "outputs": [],
      "source": [
        "in_colab = 'google.colab' in str(get_ipython())\n",
        "if in_colab == True:\n",
        "  !pip install yfinance\n",
        "  import yfinance as yf\n",
        "  import numpy as np\n",
        "  import pandas as pd\n",
        "  from sklearn.model_selection import train_test_split\n",
        "  from sklearn.metrics import accuracy_score\n",
        "  import matplotlib.pyplot as plt\n",
        "  from sklearn.kernel_ridge import KernelRidge\n",
        "else:\n",
        "  import yfinance as yf\n",
        "  import numpy as np\n",
        "  import pandas as pd\n",
        "  from sklearn.model_selection import train_test_split\n",
        "  from sklearn.metrics import accuracy_score\n",
        "  import matplotlib.pyplot as plt\n",
        "  from sklearn.kernel_ridge import KernelRidge"
      ]
    },
    {
      "cell_type": "code",
      "execution_count": 233,
      "id": "268185f2-a091-48ad-b243-48e15fc58689",
      "metadata": {
        "colab": {
          "base_uri": "https://localhost:8080/"
        },
        "id": "268185f2-a091-48ad-b243-48e15fc58689",
        "outputId": "c4a12f0c-7bab-44c7-a157-0a60c3eff786"
      },
      "outputs": [
        {
          "name": "stdout",
          "output_type": "stream",
          "text": [
            "[*********************100%***********************]  1 of 1 completed\n",
            "[*********************100%***********************]  1 of 1 completed\n"
          ]
        }
      ],
      "source": [
        "crypto_btc = yf.download(tickers='BTC-USD', start='2018-01-01', end='2022-12-31').drop(columns=['Adj Close','High', 'Low']).round(2).reset_index()\n",
        "crypto_eth = yf.download(tickers='ETH-USD', start='2018-01-01', end='2022-12-31').drop(columns=['Adj Close']).round(4).reset_index()"
      ]
    },
    {
      "cell_type": "code",
      "execution_count": 70,
      "id": "9e775a54",
      "metadata": {},
      "outputs": [
        {
          "data": {
            "text/html": [
              "<div>\n",
              "<style scoped>\n",
              "    .dataframe tbody tr th:only-of-type {\n",
              "        vertical-align: middle;\n",
              "    }\n",
              "\n",
              "    .dataframe tbody tr th {\n",
              "        vertical-align: top;\n",
              "    }\n",
              "\n",
              "    .dataframe thead th {\n",
              "        text-align: right;\n",
              "    }\n",
              "</style>\n",
              "<table border=\"1\" class=\"dataframe\">\n",
              "  <thead>\n",
              "    <tr style=\"text-align: right;\">\n",
              "      <th></th>\n",
              "      <th>Date</th>\n",
              "      <th>Open</th>\n",
              "      <th>Close</th>\n",
              "      <th>Volume</th>\n",
              "    </tr>\n",
              "  </thead>\n",
              "  <tbody>\n",
              "    <tr>\n",
              "      <th>0</th>\n",
              "      <td>2018-01-01 00:00:00+00:00</td>\n",
              "      <td>755.7570</td>\n",
              "      <td>772.6410</td>\n",
              "      <td>2595760128</td>\n",
              "    </tr>\n",
              "    <tr>\n",
              "      <th>1</th>\n",
              "      <td>2018-01-02 00:00:00+00:00</td>\n",
              "      <td>772.3460</td>\n",
              "      <td>884.4440</td>\n",
              "      <td>5783349760</td>\n",
              "    </tr>\n",
              "    <tr>\n",
              "      <th>2</th>\n",
              "      <td>2018-01-03 00:00:00+00:00</td>\n",
              "      <td>886.0000</td>\n",
              "      <td>962.7200</td>\n",
              "      <td>5093159936</td>\n",
              "    </tr>\n",
              "    <tr>\n",
              "      <th>3</th>\n",
              "      <td>2018-01-04 00:00:00+00:00</td>\n",
              "      <td>961.7130</td>\n",
              "      <td>980.9220</td>\n",
              "      <td>6502859776</td>\n",
              "    </tr>\n",
              "    <tr>\n",
              "      <th>4</th>\n",
              "      <td>2018-01-05 00:00:00+00:00</td>\n",
              "      <td>975.7500</td>\n",
              "      <td>997.7200</td>\n",
              "      <td>6683149824</td>\n",
              "    </tr>\n",
              "    <tr>\n",
              "      <th>...</th>\n",
              "      <td>...</td>\n",
              "      <td>...</td>\n",
              "      <td>...</td>\n",
              "      <td>...</td>\n",
              "    </tr>\n",
              "    <tr>\n",
              "      <th>1820</th>\n",
              "      <td>2022-12-26 00:00:00+00:00</td>\n",
              "      <td>1218.9202</td>\n",
              "      <td>1226.9744</td>\n",
              "      <td>3282098400</td>\n",
              "    </tr>\n",
              "    <tr>\n",
              "      <th>1821</th>\n",
              "      <td>2022-12-27 00:00:00+00:00</td>\n",
              "      <td>1226.9871</td>\n",
              "      <td>1212.7916</td>\n",
              "      <td>4091530737</td>\n",
              "    </tr>\n",
              "    <tr>\n",
              "      <th>1822</th>\n",
              "      <td>2022-12-28 00:00:00+00:00</td>\n",
              "      <td>1212.7366</td>\n",
              "      <td>1189.9861</td>\n",
              "      <td>4991669631</td>\n",
              "    </tr>\n",
              "    <tr>\n",
              "      <th>1823</th>\n",
              "      <td>2022-12-29 00:00:00+00:00</td>\n",
              "      <td>1190.0101</td>\n",
              "      <td>1201.5953</td>\n",
              "      <td>4132233940</td>\n",
              "    </tr>\n",
              "    <tr>\n",
              "      <th>1824</th>\n",
              "      <td>2022-12-30 00:00:00+00:00</td>\n",
              "      <td>1201.5696</td>\n",
              "      <td>1199.2328</td>\n",
              "      <td>4055668253</td>\n",
              "    </tr>\n",
              "  </tbody>\n",
              "</table>\n",
              "<p>1825 rows × 4 columns</p>\n",
              "</div>"
            ],
            "text/plain": [
              "                          Date       Open      Close      Volume\n",
              "0    2018-01-01 00:00:00+00:00   755.7570   772.6410  2595760128\n",
              "1    2018-01-02 00:00:00+00:00   772.3460   884.4440  5783349760\n",
              "2    2018-01-03 00:00:00+00:00   886.0000   962.7200  5093159936\n",
              "3    2018-01-04 00:00:00+00:00   961.7130   980.9220  6502859776\n",
              "4    2018-01-05 00:00:00+00:00   975.7500   997.7200  6683149824\n",
              "...                        ...        ...        ...         ...\n",
              "1820 2022-12-26 00:00:00+00:00  1218.9202  1226.9744  3282098400\n",
              "1821 2022-12-27 00:00:00+00:00  1226.9871  1212.7916  4091530737\n",
              "1822 2022-12-28 00:00:00+00:00  1212.7366  1189.9861  4991669631\n",
              "1823 2022-12-29 00:00:00+00:00  1190.0101  1201.5953  4132233940\n",
              "1824 2022-12-30 00:00:00+00:00  1201.5696  1199.2328  4055668253\n",
              "\n",
              "[1825 rows x 4 columns]"
            ]
          },
          "execution_count": 70,
          "metadata": {},
          "output_type": "execute_result"
        }
      ],
      "source": [
        "crypto_eth"
      ]
    },
    {
      "cell_type": "code",
      "execution_count": 13,
      "id": "5f18c189",
      "metadata": {
        "id": "5f18c189"
      },
      "outputs": [],
      "source": [
        "#crypto_btc['Percent Change'] = crypto_btc['Close'].pct_change()\n",
        "#crypto_eth['Percent Change'] = crypto_eth['Close'].pct_change()"
      ]
    },
    {
      "cell_type": "code",
      "execution_count": null,
      "id": "991b49c2",
      "metadata": {
        "colab": {
          "base_uri": "https://localhost:8080/",
          "height": 526
        },
        "id": "991b49c2",
        "outputId": "6440092a-20ad-483f-d693-4429329abbfa"
      },
      "outputs": [],
      "source": [
        "crypto_btc.plot(\n",
        "    x = 'Date',\n",
        "    y = 'Close',\n",
        "    grid = True,\n",
        "    figsize = (20,10)\n",
        ")"
      ]
    },
    {
      "cell_type": "code",
      "execution_count": 60,
      "id": "ffec08b1-d751-421f-9802-7c113654567d",
      "metadata": {
        "colab": {
          "base_uri": "https://localhost:8080/",
          "height": 206
        },
        "id": "ffec08b1-d751-421f-9802-7c113654567d",
        "outputId": "38512209-174c-4637-cbd9-7263794cf391"
      },
      "outputs": [
        {
          "data": {
            "text/html": [
              "<div>\n",
              "<style scoped>\n",
              "    .dataframe tbody tr th:only-of-type {\n",
              "        vertical-align: middle;\n",
              "    }\n",
              "\n",
              "    .dataframe tbody tr th {\n",
              "        vertical-align: top;\n",
              "    }\n",
              "\n",
              "    .dataframe thead th {\n",
              "        text-align: right;\n",
              "    }\n",
              "</style>\n",
              "<table border=\"1\" class=\"dataframe\">\n",
              "  <thead>\n",
              "    <tr style=\"text-align: right;\">\n",
              "      <th></th>\n",
              "      <th>Date</th>\n",
              "      <th>Open</th>\n",
              "      <th>Close</th>\n",
              "      <th>Volume</th>\n",
              "    </tr>\n",
              "  </thead>\n",
              "  <tbody>\n",
              "    <tr>\n",
              "      <th>0</th>\n",
              "      <td>2018-01-01 00:00:00+00:00</td>\n",
              "      <td>14112.2</td>\n",
              "      <td>13657.2</td>\n",
              "      <td>10291200000</td>\n",
              "    </tr>\n",
              "    <tr>\n",
              "      <th>1</th>\n",
              "      <td>2018-01-02 00:00:00+00:00</td>\n",
              "      <td>13625.0</td>\n",
              "      <td>14982.1</td>\n",
              "      <td>16846600192</td>\n",
              "    </tr>\n",
              "    <tr>\n",
              "      <th>2</th>\n",
              "      <td>2018-01-03 00:00:00+00:00</td>\n",
              "      <td>14978.2</td>\n",
              "      <td>15201.0</td>\n",
              "      <td>16871900160</td>\n",
              "    </tr>\n",
              "    <tr>\n",
              "      <th>3</th>\n",
              "      <td>2018-01-04 00:00:00+00:00</td>\n",
              "      <td>15270.7</td>\n",
              "      <td>15599.2</td>\n",
              "      <td>21783199744</td>\n",
              "    </tr>\n",
              "    <tr>\n",
              "      <th>4</th>\n",
              "      <td>2018-01-05 00:00:00+00:00</td>\n",
              "      <td>15477.2</td>\n",
              "      <td>17429.5</td>\n",
              "      <td>23840899072</td>\n",
              "    </tr>\n",
              "  </tbody>\n",
              "</table>\n",
              "</div>"
            ],
            "text/plain": [
              "                       Date     Open    Close       Volume\n",
              "0 2018-01-01 00:00:00+00:00  14112.2  13657.2  10291200000\n",
              "1 2018-01-02 00:00:00+00:00  13625.0  14982.1  16846600192\n",
              "2 2018-01-03 00:00:00+00:00  14978.2  15201.0  16871900160\n",
              "3 2018-01-04 00:00:00+00:00  15270.7  15599.2  21783199744\n",
              "4 2018-01-05 00:00:00+00:00  15477.2  17429.5  23840899072"
            ]
          },
          "execution_count": 60,
          "metadata": {},
          "output_type": "execute_result"
        }
      ],
      "source": [
        "crypto_btc.head()"
      ]
    },
    {
      "cell_type": "code",
      "execution_count": 265,
      "id": "ccea788c",
      "metadata": {},
      "outputs": [],
      "source": [
        "df = ()\n",
        "\n",
        "def kernel_predict(df_pred):\n",
        "    X = df.drop(columns=['Date'])\n",
        "    y = df[['Close']]\n",
        "    X_train, X_test, y_train, y_test = train_test_split(X, y, test_size=.7, random_state=42)\n",
        "    if df is crypto_btc:\n",
        "        kr = KernelRidge(kernel='linear', alpha=5000)\n",
        "    else:\n",
        "        kr = KernelRidge(kernel='polynomial', degree=1, gamma=.05)\n",
        "    kr.fit(X_train, y_train)\n",
        "    predict = kr.predict(X)\n",
        "    if df is crypto_btc:\n",
        "        df_pred = df.copy().drop(columns=['Open','Volume']).rename(columns={'Close':'Actual Price'})\n",
        "    else:\n",
        "        df_pred = df.copy().drop(columns=['Open']).rename(columns={'Close':'Actual Price'})\n",
        "    df_pred['Predicted Price'] = predict\n",
        "    df_pred['Price Accuracy']= (df_pred['Predicted Price']/df_pred['Actual Price']-1)*100\n",
        "    return df_pred\n"
      ]
    },
    {
      "cell_type": "code",
      "execution_count": 236,
      "id": "ea78e568",
      "metadata": {},
      "outputs": [
        {
          "name": "stderr",
          "output_type": "stream",
          "text": [
            "/Users/playb3yond40gb/anaconda3/envs/dev/lib/python3.7/site-packages/sklearn/linear_model/_ridge.py:196: UserWarning: Singular matrix in solving dual problem. Using least-squares solution instead.\n",
            "  \"Singular matrix in solving dual problem. Using \"\n"
          ]
        },
        {
          "data": {
            "text/plain": [
              "count    1825.000000\n",
              "mean        0.302494\n",
              "std         0.945725\n",
              "min        -3.863393\n",
              "25%        -0.127481\n",
              "50%         0.249405\n",
              "75%         0.687104\n",
              "max        13.623790\n",
              "Name: Price Accuracy, dtype: float64"
            ]
          },
          "execution_count": 236,
          "metadata": {},
          "output_type": "execute_result"
        }
      ],
      "source": [
        "df = crypto_btc\n",
        "btc_predict=pd.DataFrame(kernel_predict(df))\n",
        "btc_predict['Price Accuracy'].describe()"
      ]
    },
    {
      "cell_type": "code",
      "execution_count": 266,
      "id": "e8eda832",
      "metadata": {},
      "outputs": [
        {
          "name": "stderr",
          "output_type": "stream",
          "text": [
            "/Users/playb3yond40gb/anaconda3/envs/dev/lib/python3.7/site-packages/sklearn/linear_model/_ridge.py:196: UserWarning: Singular matrix in solving dual problem. Using least-squares solution instead.\n",
            "  \"Singular matrix in solving dual problem. Using \"\n"
          ]
        },
        {
          "data": {
            "text/plain": [
              "count    1825.000000\n",
              "mean       -0.524432\n",
              "std         2.650934\n",
              "min       -12.233731\n",
              "25%        -1.977697\n",
              "50%        -0.582229\n",
              "75%         0.668506\n",
              "max        31.456442\n",
              "Name: Price Accuracy, dtype: float64"
            ]
          },
          "execution_count": 266,
          "metadata": {},
          "output_type": "execute_result"
        }
      ],
      "source": [
        "df = crypto_eth\n",
        "eth_predict=pd.DataFrame(kernel_predict(df))\n",
        "eth_predict['Price Accuracy'].describe()"
      ]
    },
    {
      "cell_type": "code",
      "execution_count": 256,
      "id": "8af257b4",
      "metadata": {},
      "outputs": [
        {
          "data": {
            "text/html": [
              "<div>\n",
              "<style scoped>\n",
              "    .dataframe tbody tr th:only-of-type {\n",
              "        vertical-align: middle;\n",
              "    }\n",
              "\n",
              "    .dataframe tbody tr th {\n",
              "        vertical-align: top;\n",
              "    }\n",
              "\n",
              "    .dataframe thead th {\n",
              "        text-align: right;\n",
              "    }\n",
              "</style>\n",
              "<table border=\"1\" class=\"dataframe\">\n",
              "  <thead>\n",
              "    <tr style=\"text-align: right;\">\n",
              "      <th></th>\n",
              "      <th>Date</th>\n",
              "      <th>High</th>\n",
              "      <th>Low</th>\n",
              "      <th>Actual Price</th>\n",
              "      <th>Volume</th>\n",
              "      <th>Predicted Price</th>\n",
              "      <th>Price Accuracy</th>\n",
              "    </tr>\n",
              "  </thead>\n",
              "  <tbody>\n",
              "    <tr>\n",
              "      <th>0</th>\n",
              "      <td>2018-01-01 00:00:00+00:00</td>\n",
              "      <td>782.5300</td>\n",
              "      <td>742.0040</td>\n",
              "      <td>772.6410</td>\n",
              "      <td>2595760128</td>\n",
              "      <td>761.9375</td>\n",
              "      <td>-1.385313</td>\n",
              "    </tr>\n",
              "    <tr>\n",
              "      <th>1</th>\n",
              "      <td>2018-01-02 00:00:00+00:00</td>\n",
              "      <td>914.8300</td>\n",
              "      <td>772.3460</td>\n",
              "      <td>884.4440</td>\n",
              "      <td>5783349760</td>\n",
              "      <td>834.1250</td>\n",
              "      <td>-5.689337</td>\n",
              "    </tr>\n",
              "    <tr>\n",
              "      <th>2</th>\n",
              "      <td>2018-01-03 00:00:00+00:00</td>\n",
              "      <td>974.4710</td>\n",
              "      <td>868.4510</td>\n",
              "      <td>962.7200</td>\n",
              "      <td>5093159936</td>\n",
              "      <td>920.8125</td>\n",
              "      <td>-4.353031</td>\n",
              "    </tr>\n",
              "    <tr>\n",
              "      <th>3</th>\n",
              "      <td>2018-01-04 00:00:00+00:00</td>\n",
              "      <td>1045.0800</td>\n",
              "      <td>946.0860</td>\n",
              "      <td>980.9220</td>\n",
              "      <td>6502859776</td>\n",
              "      <td>982.1250</td>\n",
              "      <td>0.122640</td>\n",
              "    </tr>\n",
              "    <tr>\n",
              "      <th>4</th>\n",
              "      <td>2018-01-05 00:00:00+00:00</td>\n",
              "      <td>1075.3900</td>\n",
              "      <td>956.3250</td>\n",
              "      <td>997.7200</td>\n",
              "      <td>6683149824</td>\n",
              "      <td>997.4375</td>\n",
              "      <td>-0.028315</td>\n",
              "    </tr>\n",
              "    <tr>\n",
              "      <th>...</th>\n",
              "      <td>...</td>\n",
              "      <td>...</td>\n",
              "      <td>...</td>\n",
              "      <td>...</td>\n",
              "      <td>...</td>\n",
              "      <td>...</td>\n",
              "      <td>...</td>\n",
              "    </tr>\n",
              "    <tr>\n",
              "      <th>1820</th>\n",
              "      <td>2022-12-26 00:00:00+00:00</td>\n",
              "      <td>1226.9744</td>\n",
              "      <td>1214.3359</td>\n",
              "      <td>1226.9744</td>\n",
              "      <td>3282098400</td>\n",
              "      <td>1220.1875</td>\n",
              "      <td>-0.553141</td>\n",
              "    </tr>\n",
              "    <tr>\n",
              "      <th>1821</th>\n",
              "      <td>2022-12-27 00:00:00+00:00</td>\n",
              "      <td>1230.4181</td>\n",
              "      <td>1205.8956</td>\n",
              "      <td>1212.7916</td>\n",
              "      <td>4091530737</td>\n",
              "      <td>1216.8125</td>\n",
              "      <td>0.331541</td>\n",
              "    </tr>\n",
              "    <tr>\n",
              "      <th>1822</th>\n",
              "      <td>2022-12-28 00:00:00+00:00</td>\n",
              "      <td>1213.1289</td>\n",
              "      <td>1185.7021</td>\n",
              "      <td>1189.9861</td>\n",
              "      <td>4991669631</td>\n",
              "      <td>1198.5000</td>\n",
              "      <td>0.715462</td>\n",
              "    </tr>\n",
              "    <tr>\n",
              "      <th>1823</th>\n",
              "      <td>2022-12-29 00:00:00+00:00</td>\n",
              "      <td>1204.1416</td>\n",
              "      <td>1188.3602</td>\n",
              "      <td>1201.5953</td>\n",
              "      <td>4132233940</td>\n",
              "      <td>1194.0625</td>\n",
              "      <td>-0.626900</td>\n",
              "    </tr>\n",
              "    <tr>\n",
              "      <th>1824</th>\n",
              "      <td>2022-12-30 00:00:00+00:00</td>\n",
              "      <td>1202.0347</td>\n",
              "      <td>1187.4625</td>\n",
              "      <td>1199.2328</td>\n",
              "      <td>4055668253</td>\n",
              "      <td>1194.6875</td>\n",
              "      <td>-0.379017</td>\n",
              "    </tr>\n",
              "  </tbody>\n",
              "</table>\n",
              "<p>1825 rows × 7 columns</p>\n",
              "</div>"
            ],
            "text/plain": [
              "                          Date       High        Low  Actual Price  \\\n",
              "0    2018-01-01 00:00:00+00:00   782.5300   742.0040      772.6410   \n",
              "1    2018-01-02 00:00:00+00:00   914.8300   772.3460      884.4440   \n",
              "2    2018-01-03 00:00:00+00:00   974.4710   868.4510      962.7200   \n",
              "3    2018-01-04 00:00:00+00:00  1045.0800   946.0860      980.9220   \n",
              "4    2018-01-05 00:00:00+00:00  1075.3900   956.3250      997.7200   \n",
              "...                        ...        ...        ...           ...   \n",
              "1820 2022-12-26 00:00:00+00:00  1226.9744  1214.3359     1226.9744   \n",
              "1821 2022-12-27 00:00:00+00:00  1230.4181  1205.8956     1212.7916   \n",
              "1822 2022-12-28 00:00:00+00:00  1213.1289  1185.7021     1189.9861   \n",
              "1823 2022-12-29 00:00:00+00:00  1204.1416  1188.3602     1201.5953   \n",
              "1824 2022-12-30 00:00:00+00:00  1202.0347  1187.4625     1199.2328   \n",
              "\n",
              "          Volume  Predicted Price  Price Accuracy  \n",
              "0     2595760128         761.9375       -1.385313  \n",
              "1     5783349760         834.1250       -5.689337  \n",
              "2     5093159936         920.8125       -4.353031  \n",
              "3     6502859776         982.1250        0.122640  \n",
              "4     6683149824         997.4375       -0.028315  \n",
              "...          ...              ...             ...  \n",
              "1820  3282098400        1220.1875       -0.553141  \n",
              "1821  4091530737        1216.8125        0.331541  \n",
              "1822  4991669631        1198.5000        0.715462  \n",
              "1823  4132233940        1194.0625       -0.626900  \n",
              "1824  4055668253        1194.6875       -0.379017  \n",
              "\n",
              "[1825 rows x 7 columns]"
            ]
          },
          "execution_count": 256,
          "metadata": {},
          "output_type": "execute_result"
        }
      ],
      "source": [
        "eth_predict"
      ]
    },
    {
      "cell_type": "code",
      "execution_count": null,
      "id": "5ea0d5ec",
      "metadata": {
        "colab": {
          "base_uri": "https://localhost:8080/",
          "height": 526
        },
        "id": "5ea0d5ec",
        "outputId": "f12ca7ce-49f5-4900-f675-bf90c994ab79"
      },
      "outputs": [],
      "source": [
        "btc_predict.plot(\n",
        "    x='Date',\n",
        "    y=['Actual Price','Predicted Price' ],\n",
        "    grid = True,\n",
        "    figsize=(20,10)\n",
        ")"
      ]
    }
  ],
  "metadata": {
    "colab": {
      "provenance": []
    },
    "kernelspec": {
      "display_name": "dev",
      "language": "python",
      "name": "python3"
    },
    "language_info": {
      "codemirror_mode": {
        "name": "ipython",
        "version": 3
      },
      "file_extension": ".py",
      "mimetype": "text/x-python",
      "name": "python",
      "nbconvert_exporter": "python",
      "pygments_lexer": "ipython3",
      "version": "3.7.13"
    },
    "vscode": {
      "interpreter": {
        "hash": "44d359f16f5f7daebf5250fc420ee4a851026ef039856dacb2f0d2332b93a75c"
      }
    }
  },
  "nbformat": 4,
  "nbformat_minor": 5
}
