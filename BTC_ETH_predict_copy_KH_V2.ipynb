{
  "cells": [
    {
      "cell_type": "code",
      "execution_count": null,
      "id": "0d1b055f-10b3-4199-8d0c-9457d36eefb2",
      "metadata": {
        "colab": {
          "base_uri": "https://localhost:8080/"
        },
        "id": "0d1b055f-10b3-4199-8d0c-9457d36eefb2",
        "outputId": "abf1db32-1db3-4da8-f34c-e5845cfe9b8c"
      },
      "outputs": [],
      "source": [
        "import yfinance as yf\n",
        "import numpy as np\n",
        "import pandas as pd\n",
        "from sklearn.model_selection import train_test_split\n",
        "from sklearn.kernel_ridge import KernelRidge\n",
        "from sklearn.metrics import classification_report\n",
        "from sklearn.metrics import mean_squared_error, mean_absolute_error, r2_score, accuracy_score\n",
        "from pandas.tseries.offsets import DateOffset\n",
        "from sklearn.preprocessing import StandardScaler\n",
        "from sklearn import svm"
      ]
    },
    {
      "cell_type": "code",
      "execution_count": null,
      "id": "268185f2-a091-48ad-b243-48e15fc58689",
      "metadata": {
        "colab": {
          "base_uri": "https://localhost:8080/"
        },
        "id": "268185f2-a091-48ad-b243-48e15fc58689",
        "outputId": "c4a12f0c-7bab-44c7-a157-0a60c3eff786"
      },
      "outputs": [],
      "source": [
        "crypto_btc = yf.download(tickers='BTC-USD', start='2017-12-01', end='2022-12-31', interval='1d').drop(columns=['Adj Close']).round(2)"
      ]
    },
    {
      "cell_type": "code",
      "execution_count": null,
      "id": "1eb49f71",
      "metadata": {},
      "outputs": [],
      "source": [
        "crypto_btc['Percent Change'] = crypto_btc['Close'].pct_change()\n",
        "crypto_btc = crypto_btc.dropna()"
      ]
    },
    {
      "cell_type": "code",
      "execution_count": null,
      "id": "8c5b989d",
      "metadata": {},
      "outputs": [],
      "source": [
        "crypto_btc['ema_9'] = crypto_btc['Close'].ewm(9).mean()"
      ]
    },
    {
      "cell_type": "code",
      "execution_count": null,
      "id": "a5ea74f5",
      "metadata": {},
      "outputs": [],
      "source": [
        "crypto_btc['sma_5'] = crypto_btc['Close'].rolling(5).mean()"
      ]
    },
    {
      "cell_type": "code",
      "execution_count": null,
      "id": "f1e0fd06",
      "metadata": {},
      "outputs": [],
      "source": [
        "crypto_btc['sma_10'] = crypto_btc['Close'].rolling(10).mean()"
      ]
    },
    {
      "cell_type": "code",
      "execution_count": null,
      "id": "7abd367d",
      "metadata": {},
      "outputs": [],
      "source": [
        "crypto_btc['sma_15'] = crypto_btc['Close'].rolling(10).mean()"
      ]
    },
    {
      "cell_type": "code",
      "execution_count": null,
      "id": "2b1bc24e",
      "metadata": {},
      "outputs": [],
      "source": [
        "crypto_btc['sma_30'] = crypto_btc['Close'].rolling(10).mean()"
      ]
    },
    {
      "cell_type": "code",
      "execution_count": null,
      "id": "dcfe8ef4",
      "metadata": {},
      "outputs": [],
      "source": [
        "crypto_btc = crypto_btc.dropna()\n",
        "crypto_btc"
      ]
    },
    {
      "cell_type": "code",
      "execution_count": null,
      "id": "d1d6d7ae",
      "metadata": {},
      "outputs": [],
      "source": [
        "X = crypto_btc[['Open', 'High', 'Low', 'Volume', 'Percent Change', 'sma_5', 'sma_10', 'sma_15', 'sma_30', 'ema_9']].copy()\n",
        "display(X.head())"
      ]
    },
    {
      "cell_type": "code",
      "execution_count": null,
      "id": "f99c9203",
      "metadata": {},
      "outputs": [],
      "source": [
        "y = crypto_btc['Close']"
      ]
    },
    {
      "cell_type": "code",
      "execution_count": null,
      "id": "8c3f7ee0",
      "metadata": {},
      "outputs": [],
      "source": [
        "# Select the start of the training period\n",
        "training_begin = X.index.min()\n",
        "\n",
        "# Display the training begin date\n",
        "print(training_begin)"
      ]
    },
    {
      "cell_type": "code",
      "execution_count": null,
      "id": "83159ab3",
      "metadata": {},
      "outputs": [],
      "source": [
        "# Select the ending period for the training data with an offset of 3 months\n",
        "training_end = X.index.min() + DateOffset(months=6)\n",
        "\n",
        "# Display the training end date\n",
        "print(training_end)"
      ]
    },
    {
      "cell_type": "code",
      "execution_count": null,
      "id": "9fcfbc3d",
      "metadata": {},
      "outputs": [],
      "source": [
        "# Generate the X_train and y_train DataFrames\n",
        "X_train = X.loc[training_begin:training_end]\n",
        "y_train = y.loc[training_begin:training_end]\n",
        "\n",
        "# Display sample data\n",
        "X_train.head()"
      ]
    },
    {
      "cell_type": "code",
      "execution_count": null,
      "id": "f9c6c660",
      "metadata": {},
      "outputs": [],
      "source": [
        "# Generate the X_test and y_test DataFrames\n",
        "X_test = X.loc[training_end:]\n",
        "y_test = y.loc[training_end:]\n",
        "\n",
        "# Display sample data\n",
        "X_test.head()"
      ]
    },
    {
      "cell_type": "code",
      "execution_count": null,
      "id": "73d2b75c",
      "metadata": {},
      "outputs": [],
      "source": [
        "#X_train, X_test, y_train, y_test = train_test_split(X, y, test_size=.25, random_state=42)\n",
        "kr = KernelRidge(kernel='linear', alpha=5000)"
      ]
    },
    {
      "cell_type": "code",
      "execution_count": null,
      "id": "9b8dbeda",
      "metadata": {},
      "outputs": [],
      "source": [
        "kr.fit(X_train, y_train)"
      ]
    },
    {
      "cell_type": "code",
      "execution_count": null,
      "id": "64c2a21e",
      "metadata": {},
      "outputs": [],
      "source": [
        "predict = kr.predict(X_train)\n",
        "predict"
      ]
    },
    {
      "cell_type": "code",
      "execution_count": null,
      "id": "5e291045",
      "metadata": {},
      "outputs": [],
      "source": [
        "#btc_mae = ()\n",
        "#btc_mae = mean_absolute_error(y, predict)\n",
        "#print(btc_mae)"
      ]
    },
    {
      "cell_type": "code",
      "execution_count": null,
      "id": "4d5c4622",
      "metadata": {},
      "outputs": [],
      "source": [
        "#crypto_btc_pred = crypto_btc.copy().drop(columns=['Open','Volume','High','Low','Percent Change','sma_5', 'sma_10', 'sma_15', 'sma_30', 'ema_9']).rename(columns={'Close':'Actual Price'})\n",
        "#crypto_btc_pred\n",
        "\n",
        "#crypto_btc_pred['Predicted Price'] = predict\n",
        "#crypto_btc_pred['Price Accuracy']= (crypto_btc_pred['Predicted Price']/crypto_btc_pred['Actual Price']-1)*100"
      ]
    },
    {
      "cell_type": "code",
      "execution_count": null,
      "id": "fdd67739",
      "metadata": {},
      "outputs": [],
      "source": [
        "#crypto_btc['EMA_9'] = crypto_btc['Close'].ewm(9).mean().shift()\n",
        "#crypto_btc['SMA_5'] = crypto_btc['Close'].rolling(5).mean().shift()\n",
        "#crypto_btc['SMA_10'] = crypto_btc['Close'].rolling(10).mean().shift()\n",
        "#crypto_btc['SMA_15'] = crypto_btc['Close'].rolling(15).mean().shift()\n",
        "#crypto_btc['SMA_30'] = crypto_btc['Close'].rolling(30).mean().shift()\n",
        "#crypto_btc['Percent Change'] = crypto_btc['Close'].pct_change()"
      ]
    },
    {
      "cell_type": "code",
      "execution_count": null,
      "id": "eedfb8a4",
      "metadata": {},
      "outputs": [],
      "source": [
        "#crypto_btc = crypto_btc.dropna()\n",
        "#crypto_btc"
      ]
    },
    {
      "cell_type": "code",
      "execution_count": null,
      "id": "991b49c2",
      "metadata": {
        "colab": {
          "base_uri": "https://localhost:8080/",
          "height": 526
        },
        "id": "991b49c2",
        "outputId": "6440092a-20ad-483f-d693-4429329abbfa"
      },
      "outputs": [],
      "source": [
        "crypto_btc.reset_index(inplace=True)\n",
        "fig = px.line(crypto_btc, x='Date', y='Close', title='Close Price with Range Slider')\n",
        "fig.update_layout(hovermode=\"x\")\n",
        "\n",
        "fig.update_xaxes(\n",
        "    rangeslider_visible=True,\n",
        "    rangeselector=dict(\n",
        "        buttons=list([\n",
        "            dict(count=1, label=\"1m\", step=\"month\", stepmode=\"backward\"),\n",
        "            dict(count=6, label=\"6m\", step=\"month\", stepmode=\"backward\"),\n",
        "            dict(count=1, label=\"1y\", step=\"year\", stepmode=\"backward\"),\n",
        "            dict(count=2, label=\"2y\", step=\"year\", stepmode=\"backward\"),\n",
        "            dict(step=\"all\")\n",
        "            \n",
        "        ])\n",
        "    )\n",
        ")\n",
        "fig.show()"
      ]
    },
    {
      "cell_type": "code",
      "execution_count": null,
      "id": "ccea788c",
      "metadata": {},
      "outputs": [],
      "source": [
        "'''\n",
        "df = ()\n",
        "def kernel_predict(df_pred):\n",
        "    X = df.drop(columns=['Date'])\n",
        "    y = df[['Close']]\n",
        "    X_train, X_test, y_train, y_test = train_test_split(X, y, test_size=.7, random_state=42)\n",
        "    if df is crypto_btc:\n",
        "        kr = KernelRidge(kernel='linear', alpha=5000)\n",
        "    else:\n",
        "        kr = KernelRidge(kernel='polynomial', degree=1, gamma=.05)\n",
        "    kr.fit(X_train, y_train)\n",
        "    predict = kr.predict(X)\n",
        "    if df is crypto_btc:\n",
        "        df_pred = df.copy().drop(columns=['Open','Volume']).rename(columns={'Close':'Actual Price'})\n",
        "    else:\n",
        "        df_pred = df.copy().drop(columns=['Open']).rename(columns={'Close':'Actual Price'})\n",
        "    df_pred['Predicted Price'] = predict\n",
        "    df_pred['Price Accuracy']= (df_pred['Predicted Price']/df_pred['Actual Price']-1)*100\n",
        "    return df_pred\n",
        "'''"
      ]
    },
    {
      "cell_type": "code",
      "execution_count": null,
      "id": "795bf6d7",
      "metadata": {},
      "outputs": [],
      "source": [
        "X = crypto_btc[['ema_9','sma_5']].shift().dropna().copy()"
      ]
    },
    {
      "cell_type": "code",
      "execution_count": null,
      "id": "0ac0b674",
      "metadata": {},
      "outputs": [],
      "source": [
        "crypto_btc"
      ]
    },
    {
      "attachments": {},
      "cell_type": "markdown",
      "id": "47ef11bb",
      "metadata": {},
      "source": []
    },
    {
      "cell_type": "code",
      "execution_count": null,
      "id": "dddeb165",
      "metadata": {},
      "outputs": [],
      "source": [
        "X = crypto_btc.drop(columns=['Date'])\n",
        "y = crypto_btc[['Close']]\n",
        "X_train, X_test, y_train, y_test = train_test_split(X, y, test_size=.7, random_state=42)\n",
        "kr = KernelRidge(kernel='linear', alpha=5000)\n",
        "kr.fit(X_train, y_train)\n",
        "predict = kr.predict(crypto_btc.drop(columns=['Date']))\n",
        "crypto_btc_pred = crypto_btc.copy().drop(columns=['Open','Volume']).rename(columns={'Close':'Actual Price'})\n",
        "crypto_btc_pred['Predicted Price'] = predict\n",
        "crypto_btc_pred['Price Accuracy']= (crypto_btc_pred['Predicted Price']/crypto_btc_pred['Actual Price']-1)*100\n",
        "    "
      ]
    },
    {
      "cell_type": "code",
      "execution_count": null,
      "id": "078b85b9",
      "metadata": {},
      "outputs": [],
      "source": [
        "btc_mae, btc_r_square, btc_r_square= (),(),()\n",
        "\n",
        "btc_mae = mean_absolute_error(y['Close'], predict)\n",
        "btc_rmse = np.sqrt(mean_squared_error(y['Close'], predict))\n",
        "btc_r_square = r2_score(y['Close'], predict)\n",
        "print(btc_mae)\n",
        "print(btc_rmse)\n",
        "print(btc_r_square)"
      ]
    },
    {
      "cell_type": "code",
      "execution_count": null,
      "id": "ea78e568",
      "metadata": {},
      "outputs": [],
      "source": [
        "crypto_btc_pred"
      ]
    },
    {
      "cell_type": "code",
      "execution_count": null,
      "id": "a4c754d9",
      "metadata": {},
      "outputs": [],
      "source": [
        "crypto_btc_pred['Price Accuracy'].describe()"
      ]
    },
    {
      "cell_type": "code",
      "execution_count": null,
      "id": "de20aff7",
      "metadata": {},
      "outputs": [],
      "source": [
        "crypto_btc_pred.hvplot(\n",
        "    x='Date',\n",
        "    y=[('Actual Price') ,'Predicted Price'],\n",
        "    grid=True\n",
        ")"
      ]
    },
    {
      "cell_type": "code",
      "execution_count": null,
      "id": "e8eda832",
      "metadata": {},
      "outputs": [],
      "source": [
        "print(f\"BTC Kernel Ridge RMSE is {btc_rmse.round(2)}\")"
      ]
    },
    {
      "cell_type": "code",
      "execution_count": null,
      "id": "8eb95d57",
      "metadata": {},
      "outputs": [],
      "source": [
        "future_df = pd.DataFrame()\n",
        "  \n",
        "\n",
        "future_df['Date'] = pd.date_range('2018-02-01', periods = 1826, freq ='1D')\n",
        "future_df[['Close','Open','Volume']]= (0)\n",
        "\n",
        "future_df\n"
      ]
    },
    {
      "cell_type": "code",
      "execution_count": null,
      "id": "d01211b4",
      "metadata": {},
      "outputs": [],
      "source": [
        "crypto_btc\n",
        "X = crypto_btc.drop(columns=['Date'])\n",
        "y = crypto_btc[['Close']]\n",
        "X_train, X_test, y_train, y_test = train_test_split(X, y, test_size=.7, random_state=42)\n",
        "kr = KernelRidge(kernel='linear', alpha=5000)\n",
        "kr.fit(X_train, y_train)\n",
        "predict = kr.predict(crypto_btc.drop(columns=['Date']))\n",
        "btc_future = future_df.copy().drop(columns=['Open','Volume']).rename(columns={'Close':'Actual Price'})\n",
        "btc_future['Predicted Price'] = predict\n",
        "\n",
        "btc_future "
      ]
    },
    {
      "cell_type": "code",
      "execution_count": null,
      "id": "a1888373",
      "metadata": {},
      "outputs": [],
      "source": [
        "btc_mae, btc_r_square, btc_r_square= (),(),()\n",
        "\n",
        "btc_mae = mean_absolute_error(y['Close'], predict)\n",
        "btc_rmse = np.sqrt(mean_squared_error(y['Close'], predict))\n",
        "btc_r_square = r2_score(y['Close'], predict)\n",
        "print(btc_mae)\n",
        "print(btc_rmse)\n",
        "print(btc_r_square)"
      ]
    },
    {
      "cell_type": "code",
      "execution_count": null,
      "id": "a0977757",
      "metadata": {},
      "outputs": [],
      "source": [
        "crypto_btc2 = yf.download(tickers='BTC-USD', start='2018-01-01', end='2023-01-30').drop(columns=['Adj Close']).round(2).reset_index()\n",
        "crypto_btc2['EMA_9'] = crypto_btc2['Close'].ewm(9).mean().shift()\n",
        "crypto_btc2['SMA_5'] = crypto_btc2['Close'].rolling(5).mean().shift()\n",
        "crypto_btc2['SMA_10'] = crypto_btc2['Close'].rolling(10).mean().shift()\n",
        "crypto_btc2['SMA_15'] = crypto_btc2['Close'].rolling(15).mean().shift()\n",
        "crypto_btc2['SMA_30'] = crypto_btc2['Close'].rolling(30).mean().shift()\n",
        "crypto_btc2['Percent Change'] = crypto_btc2['Close'].pct_change()\n",
        "#crypto_btc2 = crypto_btc2.dropna()\n",
        "crypto_btc2\n",
        "btc_future['Actual Price'] = crypto_btc2['Close'].round(0)\n",
        "btc_future['Price Accuracy']= (btc_future['Predicted Price']/btc_future['Actual Price']-1)*100\n",
        "btc_future.set_index('Date').tail(30)"
      ]
    },
    {
      "cell_type": "code",
      "execution_count": null,
      "id": "33a226a9",
      "metadata": {},
      "outputs": [],
      "source": [
        "display(btc_future.loc[btc_future['Date'] == '2020-01-27'])\n",
        "display(btc_future.loc[btc_future['Date'] == '2020-02-27'])"
      ]
    },
    {
      "cell_type": "code",
      "execution_count": null,
      "id": "5ea0d5ec",
      "metadata": {
        "colab": {
          "base_uri": "https://localhost:8080/",
          "height": 526
        },
        "id": "5ea0d5ec",
        "outputId": "f12ca7ce-49f5-4900-f675-bf90c994ab79"
      },
      "outputs": [],
      "source": [
        "from bokeh.models.formatters import BasicTickFormatter\n",
        "\n",
        "btc_future.hvplot(\n",
        "    x='Date',\n",
        "    y=[('Actual Price') ,'Predicted Price'],\n",
        "    grid=True\n",
        ")"
      ]
    },
    {
      "cell_type": "code",
      "execution_count": null,
      "id": "8fb595dd",
      "metadata": {},
      "outputs": [],
      "source": []
    }
  ],
  "metadata": {
    "colab": {
      "provenance": []
    },
    "kernelspec": {
      "display_name": "project1",
      "language": "python",
      "name": "python3"
    },
    "language_info": {
      "codemirror_mode": {
        "name": "ipython",
        "version": 3
      },
      "file_extension": ".py",
      "mimetype": "text/x-python",
      "name": "python",
      "nbconvert_exporter": "python",
      "pygments_lexer": "ipython3",
      "version": "3.7.15"
    },
    "vscode": {
      "interpreter": {
        "hash": "9b4dba598b01205f7672aa194053d3424746a8838b4cf4a68f99078f443b0e82"
      }
    }
  },
  "nbformat": 4,
  "nbformat_minor": 5
}
